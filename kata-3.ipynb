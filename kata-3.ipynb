{
 "cells": [
  {
   "cell_type": "markdown",
   "metadata": {},
   "source": [
    "### Ejercicio: Escribir declaraciones if, else, y elif"
   ]
  },
  {
   "cell_type": "markdown",
   "metadata": {},
   "source": [
    "Escribir una lógica condicional que imprima una advertencia si un asteroide se acerca a la Tierra demasiado rápido. La velocidad del asteroide varía dependiendo de lo cerca que esté del sol, y cualquier velocidad superior a **25 kilómetros por segundo (km/s)** merece una advertencia.\n",
    "\n",
    "*Un asteroide se acera a un velocidad de **49 km/s***"
   ]
  },
  {
   "cell_type": "markdown",
   "metadata": {},
   "source": [
    "1. Almacenar la velocidad del asteroide en una variable\n",
    "2. Escribir una expresión de prueba para calcular si necesita una advertencia.\n",
    "3. Agregar las instrucciones que se ejecutarán si la expresión de prueba es true o false."
   ]
  },
  {
   "cell_type": "code",
   "execution_count": 1,
   "metadata": {},
   "outputs": [
    {
     "name": "stdout",
     "output_type": "stream",
     "text": [
      "Warning: The asteroid travels at a dangerous speed exceeding 25 km/s\n"
     ]
    }
   ],
   "source": [
    "asteroid_velocity = 49\n",
    "\n",
    "if asteroid_velocity > 25:\n",
    "    print('Warning: The asteroid travels at a dangerous speed exceeding 25 km/s')\n",
    "else:\n",
    "    print('No danger')"
   ]
  },
  {
   "cell_type": "markdown",
   "metadata": {},
   "source": [
    "Si un asteroide entra en la atmósfera de la Tierra a una velocidad mayor o igual a **20 km/s**, a veces produce un rayo de luz que se puede ver desde la Tierra. Escribe la lógica condicional que usa declaraciones if, else, y elif para alertar a las personas de todo el mundo que deben buscar un asteroide en el cielo. \n",
    "\n",
    "*Hay uno que se dirige a la tierra a una velocidad de **19 km/s***"
   ]
  },
  {
   "cell_type": "code",
   "execution_count": 2,
   "metadata": {},
   "outputs": [
    {
     "name": "stdout",
     "output_type": "stream",
     "text": [
      "The asteroid's beam is not visible\n"
     ]
    }
   ],
   "source": [
    "asteroid_velocity = 19\n",
    "\n",
    "if asteroid_velocity > 20:\n",
    "    print(\"The asteroid's beam is visible\")\n",
    "elif asteroid_velocity == 20:\n",
    "    print(\"The asteroid's beam is visible\")\n",
    "else: \n",
    "    print(\"The asteroid's beam is not visible\")"
   ]
  },
  {
   "cell_type": "markdown",
   "metadata": {},
   "source": [
    "### Ejercicio: Uso de operadores and y or"
   ]
  },
  {
   "cell_type": "markdown",
   "metadata": {},
   "source": [
    "1. Agregar el código para crear nuevas variables para la velocidad y el tamaño del asteroide\n",
    "2. Para probar el código, probar con varias velocidades y tamaños\n",
    "3. Escribir varias expresiones de prueba o combinaciones de expresiones de prueba para determinar qué mensaje se debe enviar a Tierra."
   ]
  },
  {
   "cell_type": "code",
   "execution_count": 3,
   "metadata": {},
   "outputs": [
    {
     "name": "stdout",
     "output_type": "stream",
     "text": [
      "Warnig: The asteroid is dangerous\n"
     ]
    }
   ],
   "source": [
    "asteroid_velocity = 30\n",
    "asteroid_size = 50\n",
    "\n",
    "if asteroid_size > 25 and asteroid_velocity > 25:\n",
    "    print('Warnig: The asteroid is dangerous')\n",
    "elif asteroid_velocity >= 20:\n",
    "    print(\"The asteroid's beam is visible\")\n",
    "elif asteroid_velocity < 20:\n",
    "    print(\"The asteroid's beam is visible\")\n",
    "else:\n",
    "    print('No danger')"
   ]
  }
 ],
 "metadata": {
  "interpreter": {
   "hash": "d28eded0343fe22a381f0da347d5adb0de344d5d130c428da1d9b7a89d18e58e"
  },
  "kernelspec": {
   "display_name": "Python 3.10.2 64-bit",
   "language": "python",
   "name": "python3"
  },
  "language_info": {
   "codemirror_mode": {
    "name": "ipython",
    "version": 3
   },
   "file_extension": ".py",
   "mimetype": "text/x-python",
   "name": "python",
   "nbconvert_exporter": "python",
   "pygments_lexer": "ipython3",
   "version": "3.10.2"
  },
  "orig_nbformat": 4
 },
 "nbformat": 4,
 "nbformat_minor": 2
}
