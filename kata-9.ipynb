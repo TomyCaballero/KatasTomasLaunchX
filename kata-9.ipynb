{
 "cells": [
  {
   "cell_type": "markdown",
   "metadata": {},
   "source": [
    "### Ejercicio 1: Trabajar con argumentos en funciones"
   ]
  },
  {
   "cell_type": "markdown",
   "metadata": {},
   "source": [
    "1. Función para leer 3 tanques de combustible y muestre el promedio"
   ]
  },
  {
   "cell_type": "code",
   "execution_count": 1,
   "metadata": {},
   "outputs": [],
   "source": [
    "def fuel_report(main_tank, external_tank, hydrogen_tank):\n",
    "    fuel_avarage = (main_tank + external_tank + hydrogen_tank) / 3\n",
    "    \n",
    "    return f\"\"\"Fuel Report:\n",
    "    Total Average: {fuel_avarage}%\n",
    "    - Main tank: {main_tank}%\n",
    "    - External tank: {external_tank}%\n",
    "    - Hydrogen tank: {hydrogen_tank}%\n",
    "    \"\"\""
   ]
  },
  {
   "cell_type": "markdown",
   "metadata": {},
   "source": [
    "2. Pasarle parametros a la función"
   ]
  },
  {
   "cell_type": "code",
   "execution_count": 2,
   "metadata": {},
   "outputs": [
    {
     "name": "stdout",
     "output_type": "stream",
     "text": [
      "Fuel Report:\n",
      "    Total Average: 91.66666666666667%\n",
      "    - Main tank: 100%\n",
      "    - External tank: 50%\n",
      "    - Hydrogen tank: 125%\n",
      "    \n"
     ]
    }
   ],
   "source": [
    "print(fuel_report(100, 50, 125))"
   ]
  },
  {
   "cell_type": "markdown",
   "metadata": {},
   "source": [
    "3. Mejorar la legibilidad extrayendo el cálculo promedio de la función en una nueva función para que el promedio se pueda hacer de forma independiente."
   ]
  },
  {
   "cell_type": "code",
   "execution_count": 3,
   "metadata": {},
   "outputs": [],
   "source": [
    "def fuel_avarage(values):\n",
    "    total = sum(values)\n",
    "    number_values = len(values)\n",
    "\n",
    "    return total / number_values"
   ]
  },
  {
   "cell_type": "markdown",
   "metadata": {},
   "source": [
    "4. Actualizar la función promedio"
   ]
  },
  {
   "cell_type": "code",
   "execution_count": 4,
   "metadata": {},
   "outputs": [
    {
     "name": "stdout",
     "output_type": "stream",
     "text": [
      "Fuel Report:\n",
      "    Total Average: 80.0%\n",
      "    - Main tank: 100%\n",
      "    - External tank: 50%\n",
      "    - Hydrogen tank: 90%\n",
      "    \n"
     ]
    }
   ],
   "source": [
    "def fuel_report2(main_tank, external_tank, hydrogen_tank):\n",
    "    avarage = fuel_avarage([main_tank, external_tank, hydrogen_tank])\n",
    "    \n",
    "    return f\"\"\"Fuel Report:\n",
    "    Total Average: {avarage}%\n",
    "    - Main tank: {main_tank}%\n",
    "    - External tank: {external_tank}%\n",
    "    - Hydrogen tank: {hydrogen_tank}%\n",
    "    \"\"\"\n",
    "\n",
    "print(fuel_report2(100, 50, 90))"
   ]
  },
  {
   "cell_type": "markdown",
   "metadata": {},
   "source": [
    "### Ejercicio 2: Trabajar con argumentos de palabras clave en funciones"
   ]
  },
  {
   "cell_type": "markdown",
   "metadata": {},
   "source": [
    "Construir un informe de cohete que requiere varias piezas de información, como el tiempo hasta el destino, el combustible a la izquierda y el nombre del destino."
   ]
  },
  {
   "cell_type": "markdown",
   "metadata": {},
   "source": [
    "1. Función con un informe preciso de la misión. Considerar hora de prelanzamiento, tiempo de vuelo, destino, tanque externo y tanque interno"
   ]
  },
  {
   "cell_type": "code",
   "execution_count": 5,
   "metadata": {},
   "outputs": [
    {
     "name": "stdout",
     "output_type": "stream",
     "text": [
      "\n",
      "    Mission destination: Mars\n",
      "    Total travel time: 64\n",
      "    Total fuel left: 416490\n",
      "    \n"
     ]
    }
   ],
   "source": [
    "def report(pre_launch_time, flight_time, destination, external_tank, main_tank):\n",
    "    return f\"\"\"\n",
    "    Mission destination: {destination}\n",
    "    Total travel time: {pre_launch_time + flight_time}\n",
    "    Total fuel left: {external_tank + main_tank}\n",
    "    \"\"\"\n",
    "\n",
    "print(report(19, 45, \"Mars\", 25600, 390890))"
   ]
  },
  {
   "cell_type": "markdown",
   "metadata": {},
   "source": [
    "2. Hacerlo más flexible permitiendo cualquier número de pasos basados en el tiempo y cualquier número de tanques."
   ]
  },
  {
   "cell_type": "code",
   "execution_count": 6,
   "metadata": {},
   "outputs": [
    {
     "name": "stdout",
     "output_type": "stream",
     "text": [
      "\n",
      "    Mission destination: Mars\n",
      "    Total travel time: 76 minutes\n",
      "    Total fuel left: 416490\n",
      "    \n"
     ]
    }
   ],
   "source": [
    "def report_extended(destination, *minutes, **fuel_reservoirs):\n",
    "    return f\"\"\"\n",
    "    Mission destination: {destination}\n",
    "    Total travel time: {sum(minutes)} minutes\n",
    "    Total fuel left: {sum(fuel_reservoirs.values())}\n",
    "    \"\"\"\n",
    "\n",
    "print(report_extended(\"Mars\", 10, 15, 51, main=25600, external=390890))"
   ]
  },
  {
   "cell_type": "markdown",
   "metadata": {},
   "source": [
    "2. Actualizar la función para usar el nombre de cada tanque en el informe:"
   ]
  },
  {
   "cell_type": "code",
   "execution_count": 7,
   "metadata": {},
   "outputs": [
    {
     "name": "stdout",
     "output_type": "stream",
     "text": [
      "\n",
      "    Mission destination: Mars\n",
      "    Total travel time: 83 minutes\n",
      "    Total fuel left: 416490\n",
      "    main tank --> 25600 gallons left\n",
      "external tank --> 390890 gallons left\n",
      "\n"
     ]
    }
   ],
   "source": [
    "\n",
    "def report_extended2(destination, *minutes, **fuel_reservoirs):\n",
    "    main_report = f\"\"\"\n",
    "    Mission destination: {destination}\n",
    "    Total travel time: {sum(minutes)} minutes\n",
    "    Total fuel left: {sum(fuel_reservoirs.values())}\n",
    "    \"\"\"\n",
    "    for tank_name, gallons in fuel_reservoirs.items():\n",
    "        main_report += f\"{tank_name} tank --> {gallons} gallons left\\n\"\n",
    "        \n",
    "    return main_report\n",
    "\n",
    "print(report_extended2(\"Mars\", 17, 21, 45, main=25600, external=390890))"
   ]
  }
 ],
 "metadata": {
  "interpreter": {
   "hash": "d28eded0343fe22a381f0da347d5adb0de344d5d130c428da1d9b7a89d18e58e"
  },
  "kernelspec": {
   "display_name": "Python 3.10.2 64-bit",
   "language": "python",
   "name": "python3"
  },
  "language_info": {
   "codemirror_mode": {
    "name": "ipython",
    "version": 3
   },
   "file_extension": ".py",
   "mimetype": "text/x-python",
   "name": "python",
   "nbconvert_exporter": "python",
   "pygments_lexer": "ipython3",
   "version": "3.10.2"
  },
  "orig_nbformat": 4
 },
 "nbformat": 4,
 "nbformat_minor": 2
}
