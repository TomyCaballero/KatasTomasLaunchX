{
 "cells": [
  {
   "cell_type": "markdown",
   "metadata": {},
   "source": [
    "### Ejercicio 1: Operadores aritméticos en Python"
   ]
  },
  {
   "cell_type": "markdown",
   "metadata": {},
   "source": [
    "Calcular la distancia entre jupiter y la tierra en kilómoetros y millas"
   ]
  },
  {
   "cell_type": "code",
   "execution_count": 1,
   "metadata": {},
   "outputs": [
    {
     "name": "stdout",
     "output_type": "stream",
     "text": [
      "Distance between earth and jupiter (km): 628949330\n",
      "Distance between earth and jupiter (mi): 390577533.93\n"
     ]
    }
   ],
   "source": [
    "distance_earth = 149597870\n",
    "distance_jupiter = 778547200\n",
    "\n",
    "distance_earth_jupiter_km = distance_jupiter - distance_earth\n",
    "distance_earth_jupiter_mi = distance_earth_jupiter_km * 0.621\n",
    "\n",
    "print(\"Distance between earth and jupiter (km): \" + str(distance_earth_jupiter_km))\n",
    "print(\"Distance between earth and jupiter (mi): \" + str(distance_earth_jupiter_mi))"
   ]
  },
  {
   "cell_type": "markdown",
   "metadata": {},
   "source": [
    "### Ejercicio 2: convierte cadenas en números y usa valores absolutos"
   ]
  },
  {
   "cell_type": "markdown",
   "metadata": {},
   "source": [
    "1. Leer la distancias de 2 planetas con respecto al sol\n",
    "2. Convertir el valor de los input a valores enteros."
   ]
  },
  {
   "cell_type": "code",
   "execution_count": 2,
   "metadata": {},
   "outputs": [],
   "source": [
    "planet1 = int(input('Distancia del planeta 1: '))\n",
    "planet2 = int(input('Distancia del planera 2: '))"
   ]
  },
  {
   "cell_type": "markdown",
   "metadata": {},
   "source": [
    "3. Calcular la distancia entre los dos planetas usando sus valores absolutos"
   ]
  },
  {
   "cell_type": "code",
   "execution_count": 3,
   "metadata": {},
   "outputs": [
    {
     "name": "stdout",
     "output_type": "stream",
     "text": [
      "99\n",
      "61.479\n"
     ]
    }
   ],
   "source": [
    "distancia_planetas_km = abs(planet1 - planet2)\n",
    "distancia_planetas_mi = distancia_planetas_km * 0.621\n",
    "\n",
    "print(distancia_planetas_km)\n",
    "print(distancia_planetas_mi)"
   ]
  }
 ],
 "metadata": {
  "interpreter": {
   "hash": "d28eded0343fe22a381f0da347d5adb0de344d5d130c428da1d9b7a89d18e58e"
  },
  "kernelspec": {
   "display_name": "Python 3.10.2 64-bit",
   "language": "python",
   "name": "python3"
  },
  "language_info": {
   "codemirror_mode": {
    "name": "ipython",
    "version": 3
   },
   "file_extension": ".py",
   "mimetype": "text/x-python",
   "name": "python",
   "nbconvert_exporter": "python",
   "pygments_lexer": "ipython3",
   "version": "3.10.2"
  },
  "orig_nbformat": 4
 },
 "nbformat": 4,
 "nbformat_minor": 2
}
